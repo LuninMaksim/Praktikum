{
  "nbformat": 4,
  "nbformat_minor": 0,
  "metadata": {
    "colab": {
      "name": "Untitled1.ipynb",
      "provenance": [],
      "collapsed_sections": []
    },
    "kernelspec": {
      "name": "python3",
      "display_name": "Python 3"
    },
    "language_info": {
      "name": "python"
    }
  },
  "cells": [
    {
      "cell_type": "code",
      "metadata": {
        "id": "8fRFhNblbYWY"
      },
      "source": [
        "def print_matrix(matrix):\n",
        "  for row in matrix:\n",
        "    print(row)"
      ],
      "execution_count": 1,
      "outputs": []
    },
    {
      "cell_type": "code",
      "metadata": {
        "id": "SDSWcXiyBmWz"
      },
      "source": [
        "matrix = [[1, 2], [2, 3], [3, 4]]"
      ],
      "execution_count": 4,
      "outputs": []
    },
    {
      "cell_type": "code",
      "metadata": {
        "colab": {
          "base_uri": "https://localhost:8080/"
        },
        "id": "RoGtqtbnBriX",
        "outputId": "c0143181-0dbb-44fe-d340-cab2486dca81"
      },
      "source": [
        "print_matrix(matrix)"
      ],
      "execution_count": 5,
      "outputs": [
        {
          "output_type": "stream",
          "name": "stdout",
          "text": [
            "[1, 2]\n",
            "[2, 3]\n",
            "[3, 4]\n"
          ]
        }
      ]
    },
    {
      "cell_type": "code",
      "metadata": {
        "id": "QIfrlJabDFPC"
      },
      "source": [
        "A = [[1, 2], [2, 3], [3, 4]]\n",
        "B = [[1, 2, 3, 4], [5, 6, 7, 8]]"
      ],
      "execution_count": 6,
      "outputs": []
    },
    {
      "cell_type": "code",
      "metadata": {
        "colab": {
          "base_uri": "https://localhost:8080/"
        },
        "id": "v1DXyDGVDjOs",
        "outputId": "c1d56a3b-44d6-476c-d0fb-0dbfbec2b60b"
      },
      "source": [
        "print_matrix(A)"
      ],
      "execution_count": 7,
      "outputs": [
        {
          "output_type": "stream",
          "name": "stdout",
          "text": [
            "[1, 2]\n",
            "[2, 3]\n",
            "[3, 4]\n"
          ]
        }
      ]
    },
    {
      "cell_type": "code",
      "metadata": {
        "colab": {
          "base_uri": "https://localhost:8080/"
        },
        "id": "N1PtN3LTDnpd",
        "outputId": "b231709b-9531-4885-bd3a-a2afc8879661"
      },
      "source": [
        "print_matrix(B)"
      ],
      "execution_count": 8,
      "outputs": [
        {
          "output_type": "stream",
          "name": "stdout",
          "text": [
            "[1, 2, 3, 4]\n",
            "[5, 6, 7, 8]\n"
          ]
        }
      ]
    },
    {
      "cell_type": "code",
      "metadata": {
        "id": "_K9rqGfRBw6p"
      },
      "source": [
        "def get_column(B, idx):\n",
        "  column = []\n",
        "  for row in B:\n",
        "    column.append(row[idx])\n",
        "  return column  \n"
      ],
      "execution_count": 9,
      "outputs": []
    },
    {
      "cell_type": "code",
      "metadata": {
        "colab": {
          "base_uri": "https://localhost:8080/"
        },
        "id": "h5uYuBe1EI6i",
        "outputId": "1ce9a8b5-76b4-4ac1-e86c-d5e95fd1e151"
      },
      "source": [
        "get_column(B, 1)"
      ],
      "execution_count": 10,
      "outputs": [
        {
          "output_type": "execute_result",
          "data": {
            "text/plain": [
              "[2, 6]"
            ]
          },
          "metadata": {},
          "execution_count": 10
        }
      ]
    },
    {
      "cell_type": "code",
      "metadata": {
        "id": "SECTLfe2GE_c"
      },
      "source": [
        "def row_column_mult(row, column):\n",
        "  res = 0\n",
        "  row_len = len(row)\n",
        "  for i in range(row_len):\n",
        "    res = res + row[i] * column[i]\n",
        "  return res  "
      ],
      "execution_count": 11,
      "outputs": []
    },
    {
      "cell_type": "code",
      "metadata": {
        "id": "EDdRc5X_EPif"
      },
      "source": [
        "def matrix_mult(A, B):\n",
        "  C = []\n",
        "  for row in A:\n",
        "    column_number = len(B[0])\n",
        "    c_row = []\n",
        "    for column_idx in range(column_number):\n",
        "      column = get_column(B, column_idx)\n",
        "      c_row.append(row_column_mult(row, column))\n",
        "    C.append(c_row)\n",
        "  return C    "
      ],
      "execution_count": 12,
      "outputs": []
    },
    {
      "cell_type": "code",
      "metadata": {
        "id": "DvxM4GW4IY67"
      },
      "source": [
        "C = matrix_mult(A, B)"
      ],
      "execution_count": 13,
      "outputs": []
    },
    {
      "cell_type": "code",
      "metadata": {
        "colab": {
          "base_uri": "https://localhost:8080/"
        },
        "id": "CFcvB6DhIeQ8",
        "outputId": "8699271f-9526-4773-86fe-a7167b81f9cc"
      },
      "source": [
        "print_matrix(C)"
      ],
      "execution_count": 15,
      "outputs": [
        {
          "output_type": "stream",
          "name": "stdout",
          "text": [
            "[11, 14, 17, 20]\n",
            "[17, 22, 27, 32]\n",
            "[23, 30, 37, 44]\n"
          ]
        }
      ]
    },
    {
      "cell_type": "code",
      "metadata": {
        "id": "A1UyBvumNIYw"
      },
      "source": [
        "def maxlen_column(B, idx):\n",
        "  column = []\n",
        "  for row in B:\n",
        "    column.append(row[idx])\n",
        "  maxlen = 0  \n",
        "  for i in range(len(column)):\n",
        "    str_el = str(column[i])\n",
        "    if (len(str_el) > maxlen):\n",
        "      maxlen = len(str_el) \n",
        "  return maxlen  \n"
      ],
      "execution_count": 21,
      "outputs": []
    },
    {
      "cell_type": "code",
      "metadata": {
        "colab": {
          "base_uri": "https://localhost:8080/"
        },
        "id": "IQ4I1lJdQv0J",
        "outputId": "426017d5-bef1-4a05-ee8e-6b219339c29f"
      },
      "source": [
        "print(maxlen_column([[1, 11, 111, 7], [11111111, 4, 3, 11]], 0))"
      ],
      "execution_count": 26,
      "outputs": [
        {
          "output_type": "stream",
          "name": "stdout",
          "text": [
            "8\n"
          ]
        }
      ]
    },
    {
      "cell_type": "code",
      "metadata": {
        "id": "xWf6DjKYIhIz"
      },
      "source": [
        "def print_matrix_mod(matrix):\n",
        "  for row in matrix:\n",
        "    row_str = \"\"\n",
        "    idx_column = 0\n",
        "    for el in row:\n",
        "      row_str = row_str + str(el).rjust(maxlen_column(matrix, idx_column)) + \" \"\n",
        "      idx_column = idx_column + 1\n",
        "    print(row_str)"
      ],
      "execution_count": 34,
      "outputs": []
    },
    {
      "cell_type": "code",
      "metadata": {
        "colab": {
          "base_uri": "https://localhost:8080/"
        },
        "id": "H6Z8oMjQRe_e",
        "outputId": "bfcfbb1c-4970-4044-f8b6-2755e3446483"
      },
      "source": [
        "print_matrix_mod(C)"
      ],
      "execution_count": 35,
      "outputs": [
        {
          "output_type": "stream",
          "name": "stdout",
          "text": [
            "11 14 17 20 \n",
            "17 22 27 32 \n",
            "23 30 37 44 \n"
          ]
        }
      ]
    },
    {
      "cell_type": "code",
      "metadata": {
        "colab": {
          "base_uri": "https://localhost:8080/"
        },
        "id": "uLzKY3iTRw0E",
        "outputId": "196fe728-bebc-44fc-c21a-a36c005f335e"
      },
      "source": [
        "print_matrix_mod([[1, 11, 111, 7], [11111111, 1, 2, 55]])"
      ],
      "execution_count": 37,
      "outputs": [
        {
          "output_type": "stream",
          "name": "stdout",
          "text": [
            "       1 11 111  7 \n",
            "11111111  1   2 55 \n"
          ]
        }
      ]
    },
    {
      "cell_type": "code",
      "metadata": {
        "id": "wiEUhdyWSYDj"
      },
      "source": [
        ""
      ],
      "execution_count": null,
      "outputs": []
    }
  ]
}